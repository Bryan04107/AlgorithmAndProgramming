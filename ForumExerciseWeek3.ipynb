{
 "cells": [
  {
   "cell_type": "code",
   "execution_count": 21,
   "metadata": {},
   "outputs": [
    {
     "name": "stdout",
     "output_type": "stream",
     "text": [
      "The Area of the Circle is 12.566370614359172\n"
     ]
    }
   ],
   "source": [
    "from math import pi\n",
    "rad = input(\"Enter Radius of the Circle:\")\n",
    "area = pi*int(rad)**2\n",
    "print(\"The Area of the Circle is\", area)"
   ]
  },
  {
   "cell_type": "code",
   "execution_count": 6,
   "metadata": {},
   "outputs": [
    {
     "name": "stdout",
     "output_type": "stream",
     "text": [
      "Sujoso Bryan\n"
     ]
    }
   ],
   "source": [
    "First = input(\"Input First Name:\")\n",
    "Last = input(\"Input Last Name:\")\n",
    "print(Last+\" \"+First)"
   ]
  },
  {
   "cell_type": "code",
   "execution_count": 20,
   "metadata": {},
   "outputs": [
    {
     "name": "stdout",
     "output_type": "stream",
     "text": [
      "The first colot is Red and the Last Color is Black\n"
     ]
    }
   ],
   "source": [
    "color_list = [\"Red\",\"Green\",\"White\",\"Black\"]\n",
    "print(\"The first colot is\", color_list[0], \"and the Last Color is\", color_list[-1])"
   ]
  },
  {
   "cell_type": "code",
   "execution_count": 111,
   "metadata": {},
   "outputs": [
    {
     "name": "stdout",
     "output_type": "stream",
     "text": [
      "Total Value of n is 14\n"
     ]
    }
   ],
   "source": [
    "n = int(input(\"Input Value of n:\"))\n",
    "totaln = n+n*n+n*n*n\n",
    "print(\"Total Value of n is\", totaln)"
   ]
  },
  {
   "cell_type": "code",
   "execution_count": 18,
   "metadata": {},
   "outputs": [
    {
     "name": "stdout",
     "output_type": "stream",
     "text": [
      "Volume of the Sphere is 904.7786842338603\n"
     ]
    }
   ],
   "source": [
    "V = (4/3)*pi*6**3\n",
    "print(\"Volume of the Sphere is\", V)"
   ]
  },
  {
   "cell_type": "code",
   "execution_count": 25,
   "metadata": {},
   "outputs": [
    {
     "name": "stdout",
     "output_type": "stream",
     "text": [
      "5\n"
     ]
    }
   ],
   "source": [
    "Val1=17\n",
    "Val2 = int(input(\"Input a Value:\"))\n",
    "if Val2 <= Val1:\n",
    "    print(Val1-Val2)\n",
    "else:\n",
    "    print((Val2-Val1)*2)"
   ]
  },
  {
   "cell_type": "code",
   "execution_count": 36,
   "metadata": {},
   "outputs": [
    {
     "name": "stdout",
     "output_type": "stream",
     "text": [
      "6\n"
     ]
    }
   ],
   "source": [
    "X, Y, Z = input(\"Input 3 Values:\").split(\",\")\n",
    "X1=int(X)\n",
    "Y1=int(Y)\n",
    "Z1=int(Z)\n",
    "if X1 == Y1 == Z1:\n",
    "    print((X1+Y1+Z1)*3)\n",
    "else:\n",
    "    print(X1+Y1+Z1)"
   ]
  },
  {
   "cell_type": "code",
   "execution_count": 40,
   "metadata": {},
   "outputs": [
    {
     "name": "stdout",
     "output_type": "stream",
     "text": [
      "The Number is Even\n"
     ]
    }
   ],
   "source": [
    "X = int(input(\"Input a Value:\"))\n",
    "if X%2==0:\n",
    "    print(\"The Number is Even\")\n",
    "else:\n",
    "    print(\"The Number is Odd\")"
   ]
  },
  {
   "cell_type": "code",
   "execution_count": 50,
   "metadata": {},
   "outputs": [
    {
     "name": "stdout",
     "output_type": "stream",
     "text": [
      "The Letter is a Vowel\n"
     ]
    }
   ],
   "source": [
    "X = input(\"Input a Letter:\")\n",
    "Vowel = ['A', 'a', 'I', 'i', 'U', 'u', 'E', 'e', 'O', 'o']\n",
    "if X in Vowel:\n",
    "    print(\"The Letter is a Vowel\")\n",
    "else:\n",
    "    print(\"The Letter is Not a Vowel\")\n"
   ]
  },
  {
   "cell_type": "code",
   "execution_count": 56,
   "metadata": {},
   "outputs": [
    {
     "name": "stdout",
     "output_type": "stream",
     "text": [
      "The Number is Not in the Group\n"
     ]
    }
   ],
   "source": [
    "X = int(input(\"Input a Number:\"))\n",
    "Vowel = [1 ,2 ,3]\n",
    "if X in Vowel:\n",
    "    print(\"The Number is in the Group\")\n",
    "else:\n",
    "    print(\"The Number is Not in the Group\")"
   ]
  },
  {
   "cell_type": "code",
   "execution_count": 82,
   "metadata": {},
   "outputs": [
    {
     "name": "stdout",
     "output_type": "stream",
     "text": [
      "['5', '2', '3', '1']\n",
      "O O O O O \n",
      "O O \n",
      "O O O \n",
      "O \n"
     ]
    }
   ],
   "source": [
    "Num = input(\"Input a list of Numbers:\").split(\",\")\n",
    "print(Num)\n",
    "NumLength = len(Num)\n",
    "NumOrder=0\n",
    "while NumLength>0:\n",
    "    CurrentNumOrder=int(Num[NumOrder])\n",
    "    while CurrentNumOrder>0:\n",
    "        print(\"O\", end=' ')\n",
    "        CurrentNumOrder-=1\n",
    "    print(\"\")\n",
    "    NumOrder+=1\n",
    "    NumLength-=1\n"
   ]
  },
  {
   "cell_type": "code",
   "execution_count": 85,
   "metadata": {},
   "outputs": [
    {
     "name": "stdout",
     "output_type": "stream",
     "text": [
      "[386, 462, 418, 344, 236, 566, 978, 328, 162, 758, 918, 412, 566, 826, 248, 866, 950, 626, 104, 58, 512, 24, 892, 894, 742, 958]\n"
     ]
    }
   ],
   "source": [
    "Numbers = [386, 462, 47, 418, 907, 344, 236, 375, 823, 566, 597, 978, 328, 615, 953, 345, 399, 162, 758, 219, 918, 237, 412, 566, 826, 248,\n",
    "866, 950, 626, 949, 687, 217, 815, 67, 104, 58, 512, 24, 892, 894, 767, 553, 81, 379, 843, 831, 445, 742, 717, 958, 743, 527]\n",
    "EvenNumbers = []\n",
    "NumLength = len(Numbers)\n",
    "NumOrder=0\n",
    "while NumLength>0:\n",
    "    CurrentNumOrder=int(Numbers[NumOrder])\n",
    "    if CurrentNumOrder%2==0:\n",
    "        EvenNumbers.append(CurrentNumOrder)\n",
    "    CurrentNumOrder-=1\n",
    "    NumOrder+=1\n",
    "    NumLength-=1\n",
    "print(EvenNumbers)\n"
   ]
  },
  {
   "cell_type": "code",
   "execution_count": 87,
   "metadata": {},
   "outputs": [
    {
     "name": "stdout",
     "output_type": "stream",
     "text": [
      "Area of the traingle is 4.0\n"
     ]
    }
   ],
   "source": [
    "B = int(input(\"Input Base of Triangle:\"))\n",
    "H = int(input(\"Input Height of Triangle:\"))\n",
    "Area = B*H/2\n",
    "print(\"Area of the traingle is\", Area)"
   ]
  },
  {
   "cell_type": "code",
   "execution_count": 96,
   "metadata": {},
   "outputs": [
    {
     "name": "stdout",
     "output_type": "stream",
     "text": [
      "The LCM is 84\n"
     ]
    }
   ],
   "source": [
    "X = int(input(\"Input First Number:\"))\n",
    "Y = int(input(\"Input Second Number:\"))\n",
    "def test(LCM):\n",
    "    while (True):\n",
    "        if LCM%X==0 and LCM%Y==0:\n",
    "            print(\"The LCM is\", LCM)\n",
    "            break\n",
    "        LCM+=1\n",
    "if X > Y:\n",
    "    LCM = X\n",
    "    test(LCM)\n",
    "else:\n",
    "    LCM = Y\n",
    "    test(LCM)"
   ]
  },
  {
   "cell_type": "code",
   "execution_count": 101,
   "metadata": {},
   "outputs": [
    {
     "name": "stdout",
     "output_type": "stream",
     "text": [
      "0\n"
     ]
    }
   ],
   "source": [
    "X, Y, Z = input(\"Input 3 Values:\").split(\",\")\n",
    "X1=int(X)\n",
    "Y1=int(Y)\n",
    "Z1=int(Z)\n",
    "if X1 == Y1:\n",
    "    print(\"0\")\n",
    "elif X1 == Z1:\n",
    "    print(\"0\")\n",
    "elif Y1 == Z1:\n",
    "    print(\"0\")\n",
    "else:\n",
    "    print(X1+Y1+Z1)"
   ]
  },
  {
   "cell_type": "code",
   "execution_count": 102,
   "metadata": {},
   "outputs": [
    {
     "name": "stdout",
     "output_type": "stream",
     "text": [
      "49\n"
     ]
    }
   ],
   "source": [
    "X = int(input(\"Input X Value:\"))\n",
    "Y = int(input(\"Input Y Value:\"))\n",
    "Form = (X+Y)**2\n",
    "print(Form)"
   ]
  },
  {
   "cell_type": "code",
   "execution_count": 108,
   "metadata": {},
   "outputs": [
    {
     "name": "stdout",
     "output_type": "stream",
     "text": [
      "Final Amount is 12722.79\n"
     ]
    }
   ],
   "source": [
    "IV = int(input(\"Input Initial Amount:\"))\n",
    "ROI = float(input(\"Input Rate of Intrest:\"))\n",
    "Years = int(input(\"Input Number of Years:\"))\n",
    "while Years>0:\n",
    "    IV=IV+IV/100*ROI\n",
    "    Years-=1\n",
    "print(\"Final Amount is %.2f\" %(IV))"
   ]
  },
  {
   "cell_type": "code",
   "execution_count": 136,
   "metadata": {},
   "outputs": [
    {
     "name": "stdout",
     "output_type": "stream",
     "text": [
      "The Distance Between the Points is 4.242640687119285\n"
     ]
    }
   ],
   "source": [
    "from math import sqrt\n",
    "X1, Y1 = input(\"Input First Coordinate:\").split(\",\")\n",
    "X1 = int(X1)\n",
    "Y1 = int(Y1)\n",
    "X2, Y2 = input(\"Input Second Coordinate:\").split(\",\")\n",
    "X2 = int(X2)\n",
    "Y2 = int(Y2)\n",
    "D = sqrt((X2-X1)**2+(Y2-Y1)**2)\n",
    "print(\"The Distance Between the Points is\", D)"
   ]
  },
  {
   "cell_type": "code",
   "execution_count": 130,
   "metadata": {},
   "outputs": [
    {
     "name": "stdout",
     "output_type": "stream",
     "text": [
      "The Sum of the First n Positive Integers is 6.0\n"
     ]
    }
   ],
   "source": [
    "n = int(input(\"Input Value of n:\"))\n",
    "Total = n*(n+1)/2\n",
    "print(\"The Sum of the First n Positive Integers is\", Total)"
   ]
  },
  {
   "cell_type": "code",
   "execution_count": 131,
   "metadata": {},
   "outputs": [
    {
     "name": "stdout",
     "output_type": "stream",
     "text": [
      "60.96\n"
     ]
    }
   ],
   "source": [
    "H = int(input(\"Input Height:\"))\n",
    "Metric = input(\"Feet or Inches:\")\n",
    "ft = [\"Feet\", \"feet\", \"Ft\", \"ft\"]\n",
    "inch = [\"Inches\", \"inches\", \"Inch\", \"inch\"]\n",
    "if Metric in ft:\n",
    "    Hft = H*30.48\n",
    "    print(Hft)\n",
    "if Metric in inch:\n",
    "    Hinch = H*2.54\n",
    "    print(Hinch)"
   ]
  },
  {
   "cell_type": "code",
   "execution_count": 133,
   "metadata": {},
   "outputs": [
    {
     "name": "stdout",
     "output_type": "stream",
     "text": [
      "The Length of the Hypotenuse is 10.0\n"
     ]
    }
   ],
   "source": [
    "from math import sqrt\n",
    "Adj = int(input(\"Input Adjacent Length:\"))\n",
    "Opp = int(input(\"Input Opposite Length:\"))\n",
    "Hypo = sqrt(Adj**2+Opp**2)\n",
    "print(\"The Length of the Hypotenuse is\", Hypo)"
   ]
  },
  {
   "cell_type": "code",
   "execution_count": 135,
   "metadata": {},
   "outputs": [
    {
     "name": "stdout",
     "output_type": "stream",
     "text": [
      "Your BMI is 17.301038062283737\n"
     ]
    }
   ],
   "source": [
    "H = int(input(\"Input Height (cm):\"))\n",
    "M = int(input(\"Input Mass:\"))\n",
    "BMI = M/(H/100)**2\n",
    "print(\"Your BMI is\", BMI)"
   ]
  },
  {
   "cell_type": "code",
   "execution_count": 137,
   "metadata": {},
   "outputs": [
    {
     "name": "stdout",
     "output_type": "stream",
     "text": [
      "The Midpoint Between the Points is 3.0 , 3.0\n"
     ]
    }
   ],
   "source": [
    "X1, Y1 = input(\"Input First Coordinate:\").split(\",\")\n",
    "X1 = int(X1)\n",
    "Y1 = int(Y1)\n",
    "X2, Y2 = input(\"Input Second Coordinate:\").split(\",\")\n",
    "X2 = int(X2)\n",
    "Y2 = int(Y2)\n",
    "X3 = (X2+X1)/2\n",
    "Y3 = (Y2+Y1)/2\n",
    "print(\"The Midpoint Between the Points is\", X3, \",\", Y3)"
   ]
  },
  {
   "cell_type": "code",
   "execution_count": 150,
   "metadata": {},
   "outputs": [
    {
     "name": "stdout",
     "output_type": "stream",
     "text": [
      "[2002, 2009, 2016, 2023, 2037, 2044, 2051, 2058, 2072, 2079, 2086, 2093, 2107, 2114, 2121, 2128, 2142, 2149, 2156, 2163, 2177, 2184, 2191, 2198, 2212, 2219, 2226, 2233, 2247, 2254, 2261, 2268, 2282, 2289, 2296, 2303, 2317, 2324, 2331, 2338, 2352, 2359, 2366, 2373, 2387, 2394, 2401, 2408, 2422, 2429, 2436, 2443, 2457, 2464, 2471, 2478, 2492, 2499, 2506, 2513, 2527, 2534, 2541, 2548, 2562, 2569, 2576, 2583, 2597, 2604, 2611, 2618, 2632, 2639, 2646, 2653, 2667, 2674, 2681, 2688, 2702, 2709, 2716, 2723, 2737, 2744, 2751, 2758, 2772, 2779, 2786, 2793, 2807, 2814, 2821, 2828, 2842, 2849, 2856, 2863, 2877, 2884, 2891, 2898, 2912, 2919, 2926, 2933, 2947, 2954, 2961, 2968, 2982, 2989, 2996, 3003, 3017, 3024, 3031, 3038, 3052, 3059, 3066, 3073, 3087, 3094, 3101, 3108, 3122, 3129, 3136, 3143, 3157, 3164, 3171, 3178, 3192, 3199]\n"
     ]
    }
   ],
   "source": [
    "Numbers = []\n",
    "for x in range(2000,3201):\n",
    "    if x%7==0 and x%5!=0:\n",
    "        Numbers.append(x)\n",
    "print(Numbers)    \n"
   ]
  }
 ],
 "metadata": {
  "kernelspec": {
   "display_name": "Python 3.10.7 64-bit",
   "language": "python",
   "name": "python3"
  },
  "language_info": {
   "codemirror_mode": {
    "name": "ipython",
    "version": 3
   },
   "file_extension": ".py",
   "mimetype": "text/x-python",
   "name": "python",
   "nbconvert_exporter": "python",
   "pygments_lexer": "ipython3",
   "version": "3.10.7"
  },
  "orig_nbformat": 4,
  "vscode": {
   "interpreter": {
    "hash": "cfa538cd06c93e304ca575fcc7e49a96f6a8b18fe97e2a1aa2a1d32cf31b50ca"
   }
  }
 },
 "nbformat": 4,
 "nbformat_minor": 2
}
