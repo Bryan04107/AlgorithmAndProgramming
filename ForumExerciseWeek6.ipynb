{
 "cells": [
  {
   "cell_type": "code",
   "execution_count": 2,
   "metadata": {},
   "outputs": [
    {
     "name": "stdout",
     "output_type": "stream",
     "text": [
      "{'gold': 550, 'pouch': ['flint', 'twine', 'gemstone'], 'backpack': ['bedroll', 'bread loaf', 'xylophone'], 'pocket': ['seashell', 'strange berry', 'lint']}\n"
     ]
    }
   ],
   "source": [
    "inventory = {\n",
    "    'gold': 500,\n",
    "    'pouch' : ['flint','twine','gemstone'],\n",
    "    'backpack' : ['xylophone','dagger','bedroll','bread loaf']\n",
    "}\n",
    "\n",
    "inventory['pocket'] = ['seashell','strange berry','lint']\n",
    "inventory['backpack'].sort()\n",
    "inventory['backpack'].remove('dagger')\n",
    "inventory['gold'] += 50\n",
    "print(inventory)"
   ]
  },
  {
   "cell_type": "code",
   "execution_count": 6,
   "metadata": {},
   "outputs": [
    {
     "name": "stdout",
     "output_type": "stream",
     "text": [
      "banana\n",
      "price: 4\n",
      "stock: 5\n",
      "apple\n",
      "price: 2\n",
      "stock: 7\n",
      "orange\n",
      "price: 1.5\n",
      "stock: 10\n",
      "pear\n",
      "price: 3\n",
      "stock: 0\n",
      "20\n",
      "34\n",
      "49.0\n",
      "49.0\n",
      "49.0\n"
     ]
    }
   ],
   "source": [
    "stock = {\n",
    "    \"banana\": 5,\n",
    "    \"apple\": 7,\n",
    "    \"orange\": 10,\n",
    "    \"pear\": 0\n",
    "}\n",
    "prices = {\n",
    "    \"banana\": 4,\n",
    "    \"apple\": 2,\n",
    "    \"orange\": 1.5,\n",
    "    \"pear\": 3\n",
    "}\n",
    "\n",
    "for a in prices.keys():\n",
    "    print(a)\n",
    "    print(\"price:\", prices[a])\n",
    "    print(\"stock:\", stock[a])\n",
    "\n",
    "\n",
    "total = 0\n",
    "for b in prices.keys():\n",
    "    total += prices[b]*stock[b]\n",
    "\n",
    "print(total)"
   ]
  },
  {
   "cell_type": "code",
   "execution_count": 28,
   "metadata": {},
   "outputs": [
    {
     "name": "stdout",
     "output_type": "stream",
     "text": [
      "72.0\n"
     ]
    }
   ],
   "source": [
    "stock = {\n",
    "    \"banana\": 6,\n",
    "    \"apple\": 0,\n",
    "    \"orange\": 32,\n",
    "    \"pear\": 15\n",
    "}\n",
    "prices = {\n",
    "    \"banana\": 4,\n",
    "    \"apple\": 2,\n",
    "    \"orange\": 1.5,\n",
    "    \"pear\": 3\n",
    "}\n",
    "\n",
    "def compute_bill(food):\n",
    "    total = 0\n",
    "    for item in food:\n",
    "        while stock[item] > 0:\n",
    "            total += prices[item]\n",
    "            stock[item] -= 1\n",
    "    return total\n",
    "\n",
    "print(compute_bill([\"banana\", \"orange\", \"apple\"]))"
   ]
  },
  {
   "cell_type": "code",
   "execution_count": 47,
   "metadata": {},
   "outputs": [
    {
     "name": "stdout",
     "output_type": "stream",
     "text": [
      "Eren\n",
      "[90.0, 97.0, 75.0, 92.0]\n",
      "[88.0, 40.0, 94.0]\n",
      "[75.0, 90.0]\n",
      "Mikasa\n",
      "[100.0, 92.0, 98.0, 100.0]\n",
      "[82.0, 83.0, 91.0]\n",
      "[89.0, 97.0]\n",
      "Armin\n",
      "[0.0, 87.0, 75.0, 22.0]\n",
      "[0.0, 75.0, 78.0]\n",
      "[100.0, 100.0]\n",
      "3.0\n",
      "80.55\n",
      "C\n",
      "83.86666666666666\n",
      "B\n"
     ]
    }
   ],
   "source": [
    "eren = {\n",
    " \"name\": \"Eren\",\n",
    " \"homework\": [],\n",
    " \"quizzes\": [],\n",
    " \"tests\": []\n",
    "}\n",
    "mikasa = {\n",
    "\"name\": \"Mikasa\",\n",
    "\"homework\": [],\n",
    "\"quizzes\": [],\n",
    "\"tests\": []\n",
    "}\n",
    "armin = {\n",
    "\"name\": \"Armin\",\n",
    "\"homework\": [],\n",
    "\"quizzes\": [],\n",
    "\"tests\": []\n",
    "}\n",
    "eren = {\n",
    " \"name\": \"Eren\",\n",
    " \"homework\": [90.0,97.0,75.0,92.0],\n",
    " \"quizzes\": [88.0,40.0,94.0],\n",
    " \"tests\": [75.0,90.0]\n",
    "}\n",
    "mikasa = {\n",
    "\"name\": \"Mikasa\",\n",
    "\"homework\": [100.0, 92.0, 98.0, 100.0],\n",
    "\"quizzes\": [82.0, 83.0, 91.0],\n",
    "\"tests\": [89.0, 97.0]\n",
    "}\n",
    "armin = {\n",
    "\"name\": \"Armin\",\n",
    "\"homework\": [0.0, 87.0, 75.0, 22.0],\n",
    "\"quizzes\": [0.0, 75.0, 78.0],\n",
    "\"tests\": [100.0, 100.0]\n",
    "}\n",
    "students = [eren, mikasa, armin]\n",
    "\n",
    "for a in students:\n",
    "    print(a[\"name\"])\n",
    "    print(a[\"homework\"])\n",
    "    print(a[\"quizzes\"])\n",
    "    print(a[\"tests\"])\n",
    "\n",
    "\n",
    "def average(numbers):\n",
    "    total = float(sum(numbers))\n",
    "    return total/len(numbers)\n",
    "\n",
    "print(average([1,2,3,4,5]))\n",
    "\n",
    "\n",
    "def get_average(student):\n",
    "    homework = average(student[\"homework\"])\n",
    "    quizzes = average(student[\"quizzes\"])\n",
    "    tests = average(student[\"tests\"])\n",
    "    return homework*0.1 + quizzes*0.3 + tests*0.6\n",
    "\n",
    "print(get_average(eren))\n",
    "\n",
    "\n",
    "def get_letter_grade(score):\n",
    "    if score >= 90:\n",
    "        return \"A\"\n",
    "    elif score >= 80:\n",
    "        return \"B\"\n",
    "    elif score >= 70:\n",
    "        return \"C\"\n",
    "    elif score >= 60:\n",
    "        return \"D\"\n",
    "    else:\n",
    "        return \"F\"\n",
    "lloyd = {\n",
    "\"name\": \"Lloyd\",\n",
    "\"homework\": [100.0, 90.0, 80.0, 70.0],\n",
    "\"quizzes\": [60.0, 50.0, 40.0],\n",
    "\"tests\": [90.0, 80.0]\n",
    "}\n",
    "\n",
    "print(get_letter_grade(get_average(lloyd)))\n",
    "\n",
    "\n",
    "def get_class_average(students):\n",
    "    results = []\n",
    "    for student in students:\n",
    "        results.append(get_average(student))\n",
    "    return average(results)\n",
    "\n",
    "print(get_class_average(students))\n",
    "print(get_letter_grade(get_class_average(students)))"
   ]
  }
 ],
 "metadata": {
  "kernelspec": {
   "display_name": "Python 3.10.7 64-bit",
   "language": "python",
   "name": "python3"
  },
  "language_info": {
   "codemirror_mode": {
    "name": "ipython",
    "version": 3
   },
   "file_extension": ".py",
   "mimetype": "text/x-python",
   "name": "python",
   "nbconvert_exporter": "python",
   "pygments_lexer": "ipython3",
   "version": "3.10.7"
  },
  "orig_nbformat": 4,
  "vscode": {
   "interpreter": {
    "hash": "cfa538cd06c93e304ca575fcc7e49a96f6a8b18fe97e2a1aa2a1d32cf31b50ca"
   }
  }
 },
 "nbformat": 4,
 "nbformat_minor": 2
}
